{
 "cells": [
  {
   "cell_type": "code",
   "execution_count": 28,
   "metadata": {},
   "outputs": [],
   "source": [
    "def printBoard(board):\n",
    "    print(\"-----\")\n",
    "    for x in reversed(board):\n",
    "        print('|'.join(x))\n",
    "        print(\"-----\")"
   ]
  },
  {
   "cell_type": "code",
   "execution_count": 29,
   "metadata": {},
   "outputs": [],
   "source": [
    "def resetGame():\n",
    "    board = [[' ',' ',' '],[' ',' ',' '],[' ',' ',' ']]\n",
    "    over = 0\n",
    "    player = \"X\"\n",
    "    return board,over,player"
   ]
  },
  {
   "cell_type": "code",
   "execution_count": 30,
   "metadata": {},
   "outputs": [],
   "source": [
    "def play():\n",
    "    board,over,player = resetGame()\n",
    "    while not over:\n",
    "        pos = int(input(\"enter the position for \"+player+' '))\n",
    "        pos -= 1\n",
    "        level = pos//3\n",
    "        place = pos%3\n",
    "        if board[level][place] == \" \":\n",
    "            board[level][place] = player\n",
    "        else:\n",
    "            print(\"Enter a valid place\")\n",
    "            continue\n",
    "        for i in range(3):\n",
    "            #level check(rows)\n",
    "            if board[i][0] == board[i][1] and board[i][1] == board[i][2] and board[i][2] != ' ':\n",
    "                print(\"Player \"+board[i][2]+\" has won\")\n",
    "                over = 1\n",
    "            #place check(columns)\n",
    "            elif board[0][i] == board[1][i] and board[1][i] == board[2][i] and board[2][i] != ' ':\n",
    "                print(\"Player \"+board[2][i]+\" has won\")\n",
    "                over = 1\n",
    "        #diagonal check\n",
    "        if board[0][0] == board[1][1] and board[2][2] == board[1][1] and board[0][0] != ' ':\n",
    "            print(\"Player \"+board[2][2]+\" has won\")\n",
    "            over = 1\n",
    "        elif board[0][2] == board[1][1] and board[2][0] == board[1][1] and board[0][0] != ' ':\n",
    "            print(\"Player \"+board[2][2]+\" has won\")\n",
    "            over = 1\n",
    "        if player == 'X':\n",
    "            player = 'O'\n",
    "        else:\n",
    "            player = 'X'\n",
    "        printBoard(board)"
   ]
  },
  {
   "cell_type": "code",
   "execution_count": 32,
   "metadata": {},
   "outputs": [
    {
     "name": "stdout",
     "output_type": "stream",
     "text": [
      "enter the position for X 9\n",
      "-----\n",
      " | |X\n",
      "-----\n",
      " | | \n",
      "-----\n",
      " | | \n",
      "-----\n",
      "enter the position for O 8\n",
      "-----\n",
      " |O|X\n",
      "-----\n",
      " | | \n",
      "-----\n",
      " | | \n",
      "-----\n",
      "enter the position for X 5\n",
      "-----\n",
      " |O|X\n",
      "-----\n",
      " |X| \n",
      "-----\n",
      " | | \n",
      "-----\n",
      "enter the position for O 3\n",
      "-----\n",
      " |O|X\n",
      "-----\n",
      " |X| \n",
      "-----\n",
      " | |O\n",
      "-----\n",
      "enter the position for X 1\n",
      "Player X has won\n",
      "-----\n",
      " |O|X\n",
      "-----\n",
      " |X| \n",
      "-----\n",
      "X| |O\n",
      "-----\n"
     ]
    }
   ],
   "source": [
    "play()"
   ]
  },
  {
   "cell_type": "code",
   "execution_count": null,
   "metadata": {},
   "outputs": [],
   "source": []
  }
 ],
 "metadata": {
  "kernelspec": {
   "display_name": "Python 3",
   "language": "python",
   "name": "python3"
  },
  "language_info": {
   "codemirror_mode": {
    "name": "ipython",
    "version": 3
   },
   "file_extension": ".py",
   "mimetype": "text/x-python",
   "name": "python",
   "nbconvert_exporter": "python",
   "pygments_lexer": "ipython3",
   "version": "3.7.7"
  }
 },
 "nbformat": 4,
 "nbformat_minor": 4
}
